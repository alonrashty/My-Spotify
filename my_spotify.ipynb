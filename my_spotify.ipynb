{
 "cells": [
  {
   "cell_type": "markdown",
   "id": "74567676-fc09-41a3-82de-ba8d2e5fd66d",
   "metadata": {},
   "source": [
    "# My Spotify"
   ]
  },
  {
   "cell_type": "markdown",
   "id": "8bcbd410-ae12-498f-a24b-72f647af3398",
   "metadata": {},
   "source": [
    "## Introduction"
   ]
  },
  {
   "cell_type": "markdown",
   "id": "ed8b003f-c284-4c83-9aea-6d5dbc2397de",
   "metadata": {},
   "source": [
    "In this project I analyze my personal spotify data, including my streaming history between 09/2020-09/2021 and my library items (a.k.a, songs I liked). These datasets were retrieved from my account section on Spotify's website. To complement them I also use public data I gathered from Spotify's API (for more info see [here](https://developer.spotify.com/documentation/web-api/)).\n",
    "\n",
    "The notebook consists of the following sections:\n",
    "\n",
    "* [Data Collection and Preparation](#Data-Collection-and-Preparation)\n",
    "    * [My Personal Data](#My-Personal-Data)\n",
    "    * [Spotify API](#Spotify-API)\n",
    "* [Data Analysis](#Data-Analysis)\n",
    "    * [Streaming Time](#Streaming-Time)"
   ]
  },
  {
   "cell_type": "code",
   "execution_count": 1,
   "id": "ee33067d-27d8-4c3d-a329-a759e4a9a8d3",
   "metadata": {
    "tags": []
   },
   "outputs": [],
   "source": [
    "import pandas as pd             # For dataframes etc.\n",
    "import numpy as np              # For multi-conditionals (np.where)\n",
    "import seaborn as sns           # For plotting\n",
    "import matplotlib.pyplot as plt # For plotting\n",
    "import requests                 # For API data\n",
    "import json                     # For loading json files\n",
    "import datetime                 # For working with date values\n",
    "from dateutil    import tz      # For converting time values between time-zones\n",
    "from itertools   import chain   # For unnesting list of lists\n",
    "from collections import Counter # For counting list items\n",
    "%run code/functions             # Import user-defined functions"
   ]
  },
  {
   "cell_type": "markdown",
   "id": "2fc57df3-4e5e-445d-8cae-38b14b121da3",
   "metadata": {},
   "source": [
    "## Data Collection and Preparation"
   ]
  },
  {
   "cell_type": "markdown",
   "id": "b9903cee-0af5-41ac-9ad9-3424a7e923c7",
   "metadata": {},
   "source": [
    "### My Personal Data"
   ]
  },
  {
   "cell_type": "markdown",
   "id": "e77a5bb3-ea95-4c11-b475-78b3c5100c23",
   "metadata": {},
   "source": [
    "I use my personal data which I downloaded from Spotify's website on September 21, 2021. It includes my streaming history from the past year and all my library items (i.e., \"liked songs\"), according to that date."
   ]
  },
  {
   "cell_type": "markdown",
   "id": "791d767e-dad9-4c90-a653-1e51394d34d7",
   "metadata": {},
   "source": [
    "#### Streaming History"
   ]
  },
  {
   "cell_type": "code",
   "execution_count": 2,
   "id": "4177ff3b-13f0-4398-89a1-4dd265fea688",
   "metadata": {},
   "outputs": [
    {
     "data": {
      "text/html": [
       "<div>\n",
       "<style scoped>\n",
       "    .dataframe tbody tr th:only-of-type {\n",
       "        vertical-align: middle;\n",
       "    }\n",
       "\n",
       "    .dataframe tbody tr th {\n",
       "        vertical-align: top;\n",
       "    }\n",
       "\n",
       "    .dataframe thead th {\n",
       "        text-align: right;\n",
       "    }\n",
       "</style>\n",
       "<table border=\"1\" class=\"dataframe\">\n",
       "  <thead>\n",
       "    <tr style=\"text-align: right;\">\n",
       "      <th></th>\n",
       "      <th>endTime</th>\n",
       "      <th>artistName</th>\n",
       "      <th>trackName</th>\n",
       "      <th>msPlayed</th>\n",
       "    </tr>\n",
       "  </thead>\n",
       "  <tbody>\n",
       "    <tr>\n",
       "      <th>0</th>\n",
       "      <td>2020-09-21 11:11</td>\n",
       "      <td>Miles Kane</td>\n",
       "      <td>Blame It On The Summertime</td>\n",
       "      <td>57630</td>\n",
       "    </tr>\n",
       "    <tr>\n",
       "      <th>1</th>\n",
       "      <td>2020-09-21 16:04</td>\n",
       "      <td>The Libertines</td>\n",
       "      <td>The Good Old Days</td>\n",
       "      <td>125160</td>\n",
       "    </tr>\n",
       "    <tr>\n",
       "      <th>2</th>\n",
       "      <td>2020-09-22 12:35</td>\n",
       "      <td>Franz Ferdinand</td>\n",
       "      <td>Bullet</td>\n",
       "      <td>1537</td>\n",
       "    </tr>\n",
       "    <tr>\n",
       "      <th>3</th>\n",
       "      <td>2020-09-22 12:35</td>\n",
       "      <td>The Libertines</td>\n",
       "      <td>The Good Old Days</td>\n",
       "      <td>54669</td>\n",
       "    </tr>\n",
       "    <tr>\n",
       "      <th>4</th>\n",
       "      <td>2020-09-22 12:35</td>\n",
       "      <td>Arctic Monkeys</td>\n",
       "      <td>A Certain Romance</td>\n",
       "      <td>941</td>\n",
       "    </tr>\n",
       "  </tbody>\n",
       "</table>\n",
       "</div>"
      ],
      "text/plain": [
       "            endTime       artistName                   trackName  msPlayed\n",
       "0  2020-09-21 11:11       Miles Kane  Blame It On The Summertime     57630\n",
       "1  2020-09-21 16:04   The Libertines           The Good Old Days    125160\n",
       "2  2020-09-22 12:35  Franz Ferdinand                      Bullet      1537\n",
       "3  2020-09-22 12:35   The Libertines           The Good Old Days     54669\n",
       "4  2020-09-22 12:35   Arctic Monkeys           A Certain Romance       941"
      ]
     },
     "execution_count": 2,
     "metadata": {},
     "output_type": "execute_result"
    }
   ],
   "source": [
    "stream_file = 'MyData/StreamingHistory0.json'\n",
    "my_stream = pd.read_json(stream_file)\n",
    "my_stream.head()"
   ]
  },
  {
   "cell_type": "markdown",
   "id": "f9cc0660-9e79-4e36-a78b-271847f77723",
   "metadata": {},
   "source": [
    "The streaming history includes 4 features:\n",
    "\n",
    "1. The date and time the stream was ended in UTC format\n",
    "2. Artist name\n",
    "3. Track name\n",
    "4. Playing duration in milliseconds\n",
    "\n",
    "For easier use, I'll rename the columns and convert the time to Israel time-zone and the duration's format to time-delta. Another feature I'll extract is whether the track was skipped. This will allow me to consider whether to remove a track from the library, as it is probably no longer needed. I set the bar at 10 seconds of playing."
   ]
  },
  {
   "cell_type": "code",
   "execution_count": 3,
   "id": "676a80f6-9c52-4417-af97-aef900fe7363",
   "metadata": {},
   "outputs": [
    {
     "data": {
      "text/html": [
       "<style type=\"text/css\">\n",
       "</style>\n",
       "<table id=\"T_b110f_\">\n",
       "  <thead>\n",
       "    <tr>\n",
       "      <th class=\"col_heading level0 col0\" >date_played</th>\n",
       "      <th class=\"col_heading level0 col1\" >artist</th>\n",
       "      <th class=\"col_heading level0 col2\" >track</th>\n",
       "      <th class=\"col_heading level0 col3\" >msPlayed</th>\n",
       "      <th class=\"col_heading level0 col4\" >time_played</th>\n",
       "      <th class=\"col_heading level0 col5\" >hours_played</th>\n",
       "      <th class=\"col_heading level0 col6\" >skipped</th>\n",
       "    </tr>\n",
       "  </thead>\n",
       "  <tbody>\n",
       "    <tr>\n",
       "      <td id=\"T_b110f_row0_col0\" class=\"data row0 col0\" >2020-09-21 14:11:00+03:00</td>\n",
       "      <td id=\"T_b110f_row0_col1\" class=\"data row0 col1\" >Miles Kane</td>\n",
       "      <td id=\"T_b110f_row0_col2\" class=\"data row0 col2\" >Blame It On The Summertime</td>\n",
       "      <td id=\"T_b110f_row0_col3\" class=\"data row0 col3\" >57630</td>\n",
       "      <td id=\"T_b110f_row0_col4\" class=\"data row0 col4\" >0 days 00:00:58</td>\n",
       "      <td id=\"T_b110f_row0_col5\" class=\"data row0 col5\" >0.000000</td>\n",
       "      <td id=\"T_b110f_row0_col6\" class=\"data row0 col6\" >False</td>\n",
       "    </tr>\n",
       "    <tr>\n",
       "      <td id=\"T_b110f_row1_col0\" class=\"data row1 col0\" >2020-09-21 19:04:00+03:00</td>\n",
       "      <td id=\"T_b110f_row1_col1\" class=\"data row1 col1\" >The Libertines</td>\n",
       "      <td id=\"T_b110f_row1_col2\" class=\"data row1 col2\" >The Good Old Days</td>\n",
       "      <td id=\"T_b110f_row1_col3\" class=\"data row1 col3\" >125160</td>\n",
       "      <td id=\"T_b110f_row1_col4\" class=\"data row1 col4\" >0 days 00:02:05</td>\n",
       "      <td id=\"T_b110f_row1_col5\" class=\"data row1 col5\" >0.000000</td>\n",
       "      <td id=\"T_b110f_row1_col6\" class=\"data row1 col6\" >False</td>\n",
       "    </tr>\n",
       "    <tr>\n",
       "      <td id=\"T_b110f_row2_col0\" class=\"data row2 col0\" >2020-09-22 15:35:00+03:00</td>\n",
       "      <td id=\"T_b110f_row2_col1\" class=\"data row2 col1\" >Franz Ferdinand</td>\n",
       "      <td id=\"T_b110f_row2_col2\" class=\"data row2 col2\" >Bullet</td>\n",
       "      <td id=\"T_b110f_row2_col3\" class=\"data row2 col3\" >1537</td>\n",
       "      <td id=\"T_b110f_row2_col4\" class=\"data row2 col4\" >0 days 00:00:02</td>\n",
       "      <td id=\"T_b110f_row2_col5\" class=\"data row2 col5\" >0.000000</td>\n",
       "      <td id=\"T_b110f_row2_col6\" class=\"data row2 col6\" >True</td>\n",
       "    </tr>\n",
       "    <tr>\n",
       "      <td id=\"T_b110f_row3_col0\" class=\"data row3 col0\" >2020-09-22 15:35:00+03:00</td>\n",
       "      <td id=\"T_b110f_row3_col1\" class=\"data row3 col1\" >The Libertines</td>\n",
       "      <td id=\"T_b110f_row3_col2\" class=\"data row3 col2\" >The Good Old Days</td>\n",
       "      <td id=\"T_b110f_row3_col3\" class=\"data row3 col3\" >54669</td>\n",
       "      <td id=\"T_b110f_row3_col4\" class=\"data row3 col4\" >0 days 00:00:55</td>\n",
       "      <td id=\"T_b110f_row3_col5\" class=\"data row3 col5\" >0.000000</td>\n",
       "      <td id=\"T_b110f_row3_col6\" class=\"data row3 col6\" >False</td>\n",
       "    </tr>\n",
       "    <tr>\n",
       "      <td id=\"T_b110f_row4_col0\" class=\"data row4 col0\" >2020-09-22 15:35:00+03:00</td>\n",
       "      <td id=\"T_b110f_row4_col1\" class=\"data row4 col1\" >Arctic Monkeys</td>\n",
       "      <td id=\"T_b110f_row4_col2\" class=\"data row4 col2\" >A Certain Romance</td>\n",
       "      <td id=\"T_b110f_row4_col3\" class=\"data row4 col3\" >941</td>\n",
       "      <td id=\"T_b110f_row4_col4\" class=\"data row4 col4\" >0 days 00:00:01</td>\n",
       "      <td id=\"T_b110f_row4_col5\" class=\"data row4 col5\" >0.000000</td>\n",
       "      <td id=\"T_b110f_row4_col6\" class=\"data row4 col6\" >True</td>\n",
       "    </tr>\n",
       "  </tbody>\n",
       "</table>\n"
      ],
      "text/plain": [
       "<pandas.io.formats.style.Styler at 0x1685988b430>"
      ]
     },
     "execution_count": 3,
     "metadata": {},
     "output_type": "execute_result"
    }
   ],
   "source": [
    "# Rename columns\n",
    "my_stream.rename(columns = {'endTime':'date_played', 'artistName':'artist','trackName':'track'}, inplace = True)\n",
    "\n",
    "# Convert endTime\n",
    "my_stream['date_played'] = pd.to_datetime(my_stream.date_played)\n",
    "my_stream['date_played'] = my_stream.date_played.dt.tz_localize('utc').dt.tz_convert('Asia/Jerusalem')\n",
    "\n",
    "# Convert msPlayed\n",
    "my_stream['time_played'] = round(my_stream.msPlayed / 1000)\n",
    "my_stream['time_played'] = pd.to_timedelta(my_stream.time_played, unit='s')\n",
    "my_stream['hours_played'] = round(my_stream.time_played / np.timedelta64(1, 'h'), 1)\n",
    "\n",
    "# Skipped tracks\n",
    "my_stream['skipped'] = my_stream.time_played.dt.total_seconds() < 10\n",
    "\n",
    "my_stream.head().style.hide_index()"
   ]
  },
  {
   "cell_type": "markdown",
   "id": "638effbe-15fb-4072-a4a4-62897baf7ee1",
   "metadata": {},
   "source": [
    "We can already see some of the tracks that were skipped, and other tracks that were skipped in less than a minute. It might be better to raise the bar for skipped songs, but I'll leave it for now."
   ]
  },
  {
   "cell_type": "markdown",
   "id": "915b0913-9917-41bf-b392-4647b12b55f3",
   "metadata": {
    "tags": []
   },
   "source": [
    "#### Library"
   ]
  },
  {
   "cell_type": "markdown",
   "id": "e839d85a-52c3-46f7-a508-07b8fbe46e41",
   "metadata": {},
   "source": [
    "Next, we'll deal with the library dataset. It includes my saved/liked items on Spotify. The raw file is composed of several sub-dictionaries (see below), but I'll only use those of `artists`, `albums` and `tracks`."
   ]
  },
  {
   "cell_type": "code",
   "execution_count": 4,
   "id": "9ab2937e-bb84-4073-9968-6052f59cbb13",
   "metadata": {},
   "outputs": [
    {
     "name": "stdout",
     "output_type": "stream",
     "text": [
      "The provided datasets includes: dict_keys(['tracks', 'albums', 'shows', 'episodes', 'bannedTracks', 'artists', 'bannedArtists', 'other'])\n"
     ]
    }
   ],
   "source": [
    "library_file = 'MyData/YourLibrary.json'\n",
    "\n",
    "with open(library_file, encoding='utf-8') as library_file:\n",
    "    library_json = json.load(library_file)\n",
    "\n",
    "print('The provided datasets includes:', library_json.keys())"
   ]
  },
  {
   "cell_type": "markdown",
   "id": "63da5fd0-754e-4811-8e11-1284611bb9ae",
   "metadata": {},
   "source": [
    "The first thing I want to do is to exclude podcasts from the `my_stream` to focus on songs only. For that I'll load the `shows` section from `library_json`."
   ]
  },
  {
   "cell_type": "code",
   "execution_count": 5,
   "id": "4f0a8ae5-0e6a-4e3a-8ed2-4512a7f2f8e4",
   "metadata": {},
   "outputs": [],
   "source": [
    "my_shows = pd.DataFrame(library_json['shows'])\n",
    "my_stream = my_stream[~my_stream.artist.isin(list(my_shows.name))]"
   ]
  },
  {
   "cell_type": "markdown",
   "id": "c0d700ab-f3d5-4342-bd4c-8e0c67ca2581",
   "metadata": {},
   "source": [
    "Now we can move on to data we actually want:"
   ]
  },
  {
   "cell_type": "code",
   "execution_count": 6,
   "id": "81a69079-b92c-48ba-ad9d-2ba0bfad2bf2",
   "metadata": {},
   "outputs": [
    {
     "data": {
      "text/plain": [
       "[Index(['artist', 'uri'], dtype='object'),\n",
       " Index(['artist', 'album', 'uri'], dtype='object'),\n",
       " Index(['artist', 'album', 'track', 'uri'], dtype='object')]"
      ]
     },
     "execution_count": 6,
     "metadata": {},
     "output_type": "execute_result"
    }
   ],
   "source": [
    "my_artists = pd.DataFrame(library_json['artists'])\n",
    "my_albums  = pd.DataFrame(library_json['albums'])\n",
    "my_tracks  = pd.DataFrame(library_json['tracks'])\n",
    "\n",
    "# Match artist column name between dfs\n",
    "my_artists.rename(columns = {'name':'artist'}, inplace=True)\n",
    "\n",
    "# Glance at column names\n",
    "df_list = [my_artists, my_albums, my_tracks]\n",
    "[df.columns for df in df_list]"
   ]
  },
  {
   "cell_type": "markdown",
   "id": "45a841e5-3a5e-42ee-b31b-bf5b50b6844d",
   "metadata": {},
   "source": [
    "A quick check reveals some inconsistencies. For example, some of the artists in `my_tracks` does not appear in `my_artists` and/or `my_albums`:"
   ]
  },
  {
   "cell_type": "code",
   "execution_count": 7,
   "id": "96942b30-23e2-47c1-90cf-80c8aa769774",
   "metadata": {},
   "outputs": [
    {
     "data": {
      "text/plain": [
       "[40, 15, 79]"
      ]
     },
     "execution_count": 7,
     "metadata": {},
     "output_type": "execute_result"
    }
   ],
   "source": [
    "[df.artist.nunique() for df in df_list]"
   ]
  },
  {
   "cell_type": "markdown",
   "id": "85bb8a3d-6e0e-4b0a-8245-8963de94dcda",
   "metadata": {},
   "source": [
    "We'll join the 3 dataframes for later analysis, but also help for identifying the inconsistencies:"
   ]
  },
  {
   "cell_type": "code",
   "execution_count": 8,
   "id": "e79d3a69-c570-40d2-9f62-903be2e32e25",
   "metadata": {
    "tags": []
   },
   "outputs": [],
   "source": [
    "# Merge artists and albums\n",
    "my_tracks_albums = my_tracks.merge(my_albums,\n",
    "                                     how = 'outer',\n",
    "                                     on = ['artist', 'album'], \n",
    "                                     suffixes = ('_tracks', '_albums'), \n",
    "                                     indicator = 'tracks_albums')\n",
    "\n",
    "# Merge artists_albums with tracks\n",
    "my_library = my_tracks_albums.merge(my_artists,\n",
    "                                     how = 'outer',\n",
    "                                     on = 'artist', \n",
    "                                     suffixes = ('_tracks_albums', '_artists'), \n",
    "                                     indicator = 'tracks_albums_artists')\n",
    "\n",
    "my_library.rename(columns = {'uri':'uri_artists'}, inplace = True)\n",
    "\n",
    "# Indicate match status for each row\n",
    "my_library['match'] = np.select(\n",
    "    [\n",
    "        (my_library['tracks_albums'] == 'both')       & (my_library['tracks_albums_artists'] == 'both'),\n",
    "        (my_library['tracks_albums'] == 'both')       & (my_library['tracks_albums_artists'] == 'left_only'),\n",
    "        (my_library['tracks_albums'] == 'left_only')  & (my_library['tracks_albums_artists'] == 'left_only'),\n",
    "        (my_library['tracks_albums'] == 'left_only')  & (my_library['tracks_albums_artists'] == 'both'),\n",
    "        (my_library['tracks_albums'] == 'right_only') & (my_library['tracks_albums_artists'] == 'both')\n",
    "\n",
    "    ], \n",
    "    [\n",
    "        'all',\n",
    "        'tracks_albums',\n",
    "        'tracks_only',\n",
    "        'tracks_artists',\n",
    "        'artists_albums'\n",
    "    ], \n",
    "    default='artists_only'\n",
    ")\n",
    "\n",
    "my_library.drop(['tracks_albums', 'tracks_albums_artists'], axis = 1, inplace = True)"
   ]
  },
  {
   "cell_type": "code",
   "execution_count": 9,
   "id": "98a160f6-9074-4cba-8bca-6394764ef414",
   "metadata": {},
   "outputs": [
    {
     "data": {
      "text/html": [
       "<div>\n",
       "<style scoped>\n",
       "    .dataframe tbody tr th:only-of-type {\n",
       "        vertical-align: middle;\n",
       "    }\n",
       "\n",
       "    .dataframe tbody tr th {\n",
       "        vertical-align: top;\n",
       "    }\n",
       "\n",
       "    .dataframe thead th {\n",
       "        text-align: right;\n",
       "    }\n",
       "</style>\n",
       "<table border=\"1\" class=\"dataframe\">\n",
       "  <thead>\n",
       "    <tr style=\"text-align: right;\">\n",
       "      <th></th>\n",
       "      <th>N</th>\n",
       "      <th>%</th>\n",
       "    </tr>\n",
       "  </thead>\n",
       "  <tbody>\n",
       "    <tr>\n",
       "      <th>all</th>\n",
       "      <td>464</td>\n",
       "      <td>56.8</td>\n",
       "    </tr>\n",
       "    <tr>\n",
       "      <th>tracks_artists</th>\n",
       "      <td>256</td>\n",
       "      <td>31.3</td>\n",
       "    </tr>\n",
       "    <tr>\n",
       "      <th>tracks_only</th>\n",
       "      <td>75</td>\n",
       "      <td>9.2</td>\n",
       "    </tr>\n",
       "    <tr>\n",
       "      <th>tracks_albums</th>\n",
       "      <td>17</td>\n",
       "      <td>2.1</td>\n",
       "    </tr>\n",
       "    <tr>\n",
       "      <th>artists_only</th>\n",
       "      <td>3</td>\n",
       "      <td>0.4</td>\n",
       "    </tr>\n",
       "    <tr>\n",
       "      <th>artists_albums</th>\n",
       "      <td>2</td>\n",
       "      <td>0.2</td>\n",
       "    </tr>\n",
       "  </tbody>\n",
       "</table>\n",
       "</div>"
      ],
      "text/plain": [
       "                  N     %\n",
       "all             464  56.8\n",
       "tracks_artists  256  31.3\n",
       "tracks_only      75   9.2\n",
       "tracks_albums    17   2.1\n",
       "artists_only      3   0.4\n",
       "artists_albums    2   0.2"
      ]
     },
     "execution_count": 9,
     "metadata": {},
     "output_type": "execute_result"
    }
   ],
   "source": [
    "c = my_library['match'].value_counts(dropna = False)\n",
    "p = my_library['match'].value_counts(normalize = True, dropna = False).multiply(100).round(1)\n",
    "\n",
    "pd.concat([c, p], axis = 1, keys=['N', '%'])"
   ]
  },
  {
   "cell_type": "markdown",
   "id": "69075f6b-9bf9-4d31-87ed-b9d6fa67d04a",
   "metadata": {},
   "source": [
    "We can see how the 3 datasets match each other  &ndash; more than a half are fully matched, and about 31% were only found in the `tracks` dataset, which makes sense. It seems odd that I follow 3 artists while not having any of their songs (`artists_only`). The same applies for `artists_albums`, which has 2. I'll drop the last two categories from my library (the actual one, too) since they are useless and probably there by mistake."
   ]
  },
  {
   "cell_type": "code",
   "execution_count": 10,
   "id": "e32c3b8d-5485-47c6-ad03-009e562771f5",
   "metadata": {},
   "outputs": [],
   "source": [
    "my_library = my_library[~my_library.match.isin( ['artists_only', 'artists_albums'])]"
   ]
  },
  {
   "cell_type": "markdown",
   "id": "af18a3f0-ec95-43ee-8c3b-eb69261145d2",
   "metadata": {},
   "source": [
    "We should also look for duplicates in `my_library`, since I might have the same songs from different albums (e.g., a single and a track in an album). If there, we'll drop them."
   ]
  },
  {
   "cell_type": "code",
   "execution_count": 11,
   "id": "0f6f98cd-d30a-4e98-97b0-077eb5679f19",
   "metadata": {},
   "outputs": [
    {
     "name": "stdout",
     "output_type": "stream",
     "text": [
      "There are 66 duplicates.\n"
     ]
    }
   ],
   "source": [
    "print('There are', my_library.duplicated(['artist', 'track'], keep=False).sum(), 'duplicates.')"
   ]
  },
  {
   "cell_type": "code",
   "execution_count": 12,
   "id": "3b85dcef-008b-41c8-a90f-7780d02c8ba1",
   "metadata": {},
   "outputs": [],
   "source": [
    "my_library.drop_duplicates(['artist', 'track'], keep='last', inplace=True)"
   ]
  },
  {
   "cell_type": "markdown",
   "id": "f20faa4f-de9c-47c7-ae6f-8a58d18e8548",
   "metadata": {},
   "source": [
    "I could use some of the information in `my_library` in `my_stream`. I'll take the album name, and also create a new indicator for being in `my_library`."
   ]
  },
  {
   "cell_type": "code",
   "execution_count": 13,
   "id": "2a844bce-36cc-414a-8406-ff8ab0825e0c",
   "metadata": {},
   "outputs": [],
   "source": [
    "my_stream = my_stream.merge(my_library[['artist', 'track','album']], how = 'left', \n",
    "                                    on = ['artist', 'track'], indicator = 'in_library')\n",
    "my_stream['in_library'] = np.where(my_stream['in_library']=='left_only', False, True)"
   ]
  },
  {
   "cell_type": "markdown",
   "id": "63078503-227a-4bec-b67c-4d4facd3b073",
   "metadata": {},
   "source": [
    "### Accessing Spotify API"
   ]
  },
  {
   "cell_type": "markdown",
   "id": "b4d3d15c-d161-4eea-9819-94847f830aa6",
   "metadata": {},
   "source": [
    "In this section I will access the Spotify API to complement my personal data with more information, such as detecting whether a listing is a song or a podcast, getting songs' duration, year of production, and more).\n",
    "\n",
    "First, I'll prepare my data for communicating with the API. That means organizing the different id columns in a proper format."
   ]
  },
  {
   "cell_type": "code",
   "execution_count": 14,
   "id": "79ec6de9-48cc-45d9-b217-67c8aa1a83b3",
   "metadata": {},
   "outputs": [
    {
     "data": {
      "text/html": [
       "<style type=\"text/css\">\n",
       "</style>\n",
       "<table id=\"T_1d02d_\">\n",
       "  <thead>\n",
       "    <tr>\n",
       "      <th class=\"col_heading level0 col0\" >artist</th>\n",
       "      <th class=\"col_heading level0 col1\" >album</th>\n",
       "      <th class=\"col_heading level0 col2\" >track</th>\n",
       "      <th class=\"col_heading level0 col3\" >track_id</th>\n",
       "      <th class=\"col_heading level0 col4\" >album_id</th>\n",
       "      <th class=\"col_heading level0 col5\" >artist_id</th>\n",
       "      <th class=\"col_heading level0 col6\" >match</th>\n",
       "    </tr>\n",
       "  </thead>\n",
       "  <tbody>\n",
       "    <tr>\n",
       "      <td id=\"T_1d02d_row0_col0\" class=\"data row0 col0\" >The Strokes</td>\n",
       "      <td id=\"T_1d02d_row0_col1\" class=\"data row0 col1\" >Room On Fire</td>\n",
       "      <td id=\"T_1d02d_row0_col2\" class=\"data row0 col2\" >Reptilia</td>\n",
       "      <td id=\"T_1d02d_row0_col3\" class=\"data row0 col3\" >2hmibAtdObO8F4tnhLENuQ</td>\n",
       "      <td id=\"T_1d02d_row0_col4\" class=\"data row0 col4\" >5OA9iN6WTzunqAdiuEpr7Q</td>\n",
       "      <td id=\"T_1d02d_row0_col5\" class=\"data row0 col5\" >0epOFNiUfyON9EYx7Tpr6V</td>\n",
       "      <td id=\"T_1d02d_row0_col6\" class=\"data row0 col6\" >all</td>\n",
       "    </tr>\n",
       "    <tr>\n",
       "      <td id=\"T_1d02d_row1_col0\" class=\"data row1 col0\" >The Strokes</td>\n",
       "      <td id=\"T_1d02d_row1_col1\" class=\"data row1 col1\" >Room On Fire</td>\n",
       "      <td id=\"T_1d02d_row1_col2\" class=\"data row1 col2\" >Under Control</td>\n",
       "      <td id=\"T_1d02d_row1_col3\" class=\"data row1 col3\" >5Llxit9Fc8E5C1jT9epRTU</td>\n",
       "      <td id=\"T_1d02d_row1_col4\" class=\"data row1 col4\" >5OA9iN6WTzunqAdiuEpr7Q</td>\n",
       "      <td id=\"T_1d02d_row1_col5\" class=\"data row1 col5\" >0epOFNiUfyON9EYx7Tpr6V</td>\n",
       "      <td id=\"T_1d02d_row1_col6\" class=\"data row1 col6\" >all</td>\n",
       "    </tr>\n",
       "    <tr>\n",
       "      <td id=\"T_1d02d_row2_col0\" class=\"data row2 col0\" >The Strokes</td>\n",
       "      <td id=\"T_1d02d_row2_col1\" class=\"data row2 col1\" >Room On Fire</td>\n",
       "      <td id=\"T_1d02d_row2_col2\" class=\"data row2 col2\" >I Can't Win</td>\n",
       "      <td id=\"T_1d02d_row2_col3\" class=\"data row2 col3\" >4rC465YB5dS1MySDtFsAE6</td>\n",
       "      <td id=\"T_1d02d_row2_col4\" class=\"data row2 col4\" >5OA9iN6WTzunqAdiuEpr7Q</td>\n",
       "      <td id=\"T_1d02d_row2_col5\" class=\"data row2 col5\" >0epOFNiUfyON9EYx7Tpr6V</td>\n",
       "      <td id=\"T_1d02d_row2_col6\" class=\"data row2 col6\" >all</td>\n",
       "    </tr>\n",
       "    <tr>\n",
       "      <td id=\"T_1d02d_row3_col0\" class=\"data row3 col0\" >The Strokes</td>\n",
       "      <td id=\"T_1d02d_row3_col1\" class=\"data row3 col1\" >Room On Fire</td>\n",
       "      <td id=\"T_1d02d_row3_col2\" class=\"data row3 col2\" >12:51</td>\n",
       "      <td id=\"T_1d02d_row3_col3\" class=\"data row3 col3\" >0nkLI0pdyTRpq7BsTFBufZ</td>\n",
       "      <td id=\"T_1d02d_row3_col4\" class=\"data row3 col4\" >5OA9iN6WTzunqAdiuEpr7Q</td>\n",
       "      <td id=\"T_1d02d_row3_col5\" class=\"data row3 col5\" >0epOFNiUfyON9EYx7Tpr6V</td>\n",
       "      <td id=\"T_1d02d_row3_col6\" class=\"data row3 col6\" >all</td>\n",
       "    </tr>\n",
       "    <tr>\n",
       "      <td id=\"T_1d02d_row4_col0\" class=\"data row4 col0\" >The Strokes</td>\n",
       "      <td id=\"T_1d02d_row4_col1\" class=\"data row4 col1\" >Room On Fire</td>\n",
       "      <td id=\"T_1d02d_row4_col2\" class=\"data row4 col2\" >What Ever Happened?</td>\n",
       "      <td id=\"T_1d02d_row4_col3\" class=\"data row4 col3\" >08yezFIhte4aFiDpmQmQlP</td>\n",
       "      <td id=\"T_1d02d_row4_col4\" class=\"data row4 col4\" >5OA9iN6WTzunqAdiuEpr7Q</td>\n",
       "      <td id=\"T_1d02d_row4_col5\" class=\"data row4 col5\" >0epOFNiUfyON9EYx7Tpr6V</td>\n",
       "      <td id=\"T_1d02d_row4_col6\" class=\"data row4 col6\" >all</td>\n",
       "    </tr>\n",
       "  </tbody>\n",
       "</table>\n"
      ],
      "text/plain": [
       "<pandas.io.formats.style.Styler at 0x168599291f0>"
      ]
     },
     "execution_count": 14,
     "metadata": {},
     "output_type": "execute_result"
    }
   ],
   "source": [
    "# Extract item ID from each level's uri\n",
    "uri_cols = [col for col in my_library.columns if 'uri' in col]\n",
    "\n",
    "for col in uri_cols:\n",
    "    my_library[col] = my_library[col].str.split(':').str[-1]\n",
    "    my_library.rename(columns = {col:col.split(\"_\")[1][:-1] + '_id'}, inplace = True)\n",
    "    \n",
    "my_library.head().style.hide_index()"
   ]
  },
  {
   "cell_type": "markdown",
   "id": "86c1c1f4-b101-4681-8f36-077eb6b26c36",
   "metadata": {},
   "source": [
    "#### Defining Connection"
   ]
  },
  {
   "cell_type": "markdown",
   "id": "c9a1a888-0886-41fd-9d9e-608329f2bc38",
   "metadata": {},
   "source": [
    "Connecting to the Spotify API requires personal access credentials that can be retrieved from [Spotify for Developers Dashboard](https://developer.spotify.com/dashboard/applications). For security and privacy reasons, I store mine in a separate script called `secrets`, which creates two object: `CLIENT_ID` and `CLIENT_SECRET`, containing the personal keys to access Spotify API."
   ]
  },
  {
   "cell_type": "code",
   "execution_count": 15,
   "id": "7b617232-ae07-4f3b-b485-1dee41c4c9ea",
   "metadata": {},
   "outputs": [],
   "source": [
    " %run code/secrets"
   ]
  },
  {
   "cell_type": "markdown",
   "id": "fa00218d-5060-4e05-a2ef-0e9a7bd1b4e7",
   "metadata": {},
   "source": [
    "Now for defining the connection to the API:"
   ]
  },
  {
   "cell_type": "code",
   "execution_count": 16,
   "id": "4633a286-8aa0-4731-bc1c-b957abb5e61d",
   "metadata": {},
   "outputs": [],
   "source": [
    "AUTH_URL = 'https://accounts.spotify.com/api/token'\n",
    "\n",
    "# POST\n",
    "auth_response = requests.post(AUTH_URL, {\n",
    "    'grant_type': 'client_credentials',\n",
    "    'client_id': CLIENT_ID,\n",
    "    'client_secret': CLIENT_SECRET\n",
    "})\n",
    "\n",
    "# convert the response to JSON\n",
    "auth_response_data = auth_response.json()\n",
    "\n",
    "# save the access token\n",
    "access_token = auth_response_data['access_token']\n",
    "\n",
    "headers = {'Authorization': 'Bearer {token}'.format(token=access_token)}\n",
    "\n",
    "# The base url for all requests\n",
    "BASE_URL = 'https://api.spotify.com/v1/'"
   ]
  },
  {
   "cell_type": "markdown",
   "id": "cd70bd47-98df-435f-9019-a81dedfa35e8",
   "metadata": {},
   "source": [
    "#### Tracks"
   ]
  },
  {
   "cell_type": "markdown",
   "id": "c7be5eec-9123-4709-a5ba-8a20bddb895b",
   "metadata": {},
   "source": [
    "Here I'll retrieve the desired data for every track in my library, using the _Tracks API_ endpoint. I'll loop over `tracks_ids`, which uniquely identify each track in the spotify database. For efficiency, I split the ids into chunks of 50, the maximal amount that the API allows to get in a single request."
   ]
  },
  {
   "cell_type": "code",
   "execution_count": 17,
   "id": "066e2c6d-d85e-4cfb-ba2d-7d8592af34e5",
   "metadata": {},
   "outputs": [],
   "source": [
    "# Get unique track ids\n",
    "tracks_ids  = my_library.track_id.dropna().unique()\n",
    "\n",
    "# Split into chunks of size 50 (max) beacuse of the API limitation\n",
    "chunks = [tracks_ids[x:x+50] for x in range(0, len(tracks_ids), 50)]\n",
    "\n",
    "# Prepare empty list for the filtered dictionary\n",
    "d_filtered = []\n",
    "\n",
    "# Collect data\n",
    "for i in range(len(chunks)):\n",
    "    \n",
    "    chunks[i] = \"%2C\".join(chunks[i]) # Concat ids in each chunk and sepearate by comma ('%2C') to fit url query\n",
    "    \n",
    "    response = requests.get(BASE_URL + 'tracks?ids=' + chunks[i], \n",
    "                            headers=headers,\n",
    "                            params={'limit': 50})\n",
    "    d = response.json()\n",
    "    \n",
    "    # Filter list of dictionaries out of irrelevant information\n",
    "    for track in d['tracks']:\n",
    "        d_track = {'artist'           : track['artists'][0]['name'],\n",
    "                   'album'            : track['album']['name'],\n",
    "                   'album_release'    : track['album']['release_date'],\n",
    "                   'album_tracks'     : track['album']['total_tracks'],                    \n",
    "                   'track'            : track['name'],\n",
    "                   'track_number'     : track['track_number'],\n",
    "                   'duration_ms'      : track['duration_ms'],\n",
    "                   'track_popularity' : track['popularity'],\n",
    "                   'artist_id'        : track['artists'][0]['id'],\n",
    "                   'album_id'         : track['album']['id'],\n",
    "                   'track_id'         : track['id']}\n",
    "        d_filtered.append(d_track)\n",
    "    \n",
    "spotify_tracks = pd.DataFrame(d_filtered)"
   ]
  },
  {
   "cell_type": "markdown",
   "id": "9178e581-dc66-4f9f-9cc5-593570b81d72",
   "metadata": {},
   "source": [
    "A glance at the new dataset:"
   ]
  },
  {
   "cell_type": "code",
   "execution_count": 18,
   "id": "034a413e-2038-4d23-995c-3d30260c0866",
   "metadata": {},
   "outputs": [
    {
     "data": {
      "text/html": [
       "<style type=\"text/css\">\n",
       "</style>\n",
       "<table id=\"T_d2aa0_\">\n",
       "  <thead>\n",
       "    <tr>\n",
       "      <th class=\"col_heading level0 col0\" >artist</th>\n",
       "      <th class=\"col_heading level0 col1\" >album</th>\n",
       "      <th class=\"col_heading level0 col2\" >album_release</th>\n",
       "      <th class=\"col_heading level0 col3\" >album_tracks</th>\n",
       "      <th class=\"col_heading level0 col4\" >track</th>\n",
       "      <th class=\"col_heading level0 col5\" >track_number</th>\n",
       "      <th class=\"col_heading level0 col6\" >duration_ms</th>\n",
       "      <th class=\"col_heading level0 col7\" >track_popularity</th>\n",
       "      <th class=\"col_heading level0 col8\" >artist_id</th>\n",
       "      <th class=\"col_heading level0 col9\" >album_id</th>\n",
       "      <th class=\"col_heading level0 col10\" >track_id</th>\n",
       "    </tr>\n",
       "  </thead>\n",
       "  <tbody>\n",
       "    <tr>\n",
       "      <td id=\"T_d2aa0_row0_col0\" class=\"data row0 col0\" >The Strokes</td>\n",
       "      <td id=\"T_d2aa0_row0_col1\" class=\"data row0 col1\" >Room On Fire</td>\n",
       "      <td id=\"T_d2aa0_row0_col2\" class=\"data row0 col2\" >2003-10-28</td>\n",
       "      <td id=\"T_d2aa0_row0_col3\" class=\"data row0 col3\" >11</td>\n",
       "      <td id=\"T_d2aa0_row0_col4\" class=\"data row0 col4\" >Reptilia</td>\n",
       "      <td id=\"T_d2aa0_row0_col5\" class=\"data row0 col5\" >2</td>\n",
       "      <td id=\"T_d2aa0_row0_col6\" class=\"data row0 col6\" >219826</td>\n",
       "      <td id=\"T_d2aa0_row0_col7\" class=\"data row0 col7\" >0</td>\n",
       "      <td id=\"T_d2aa0_row0_col8\" class=\"data row0 col8\" >0epOFNiUfyON9EYx7Tpr6V</td>\n",
       "      <td id=\"T_d2aa0_row0_col9\" class=\"data row0 col9\" >5OA9iN6WTzunqAdiuEpr7Q</td>\n",
       "      <td id=\"T_d2aa0_row0_col10\" class=\"data row0 col10\" >2hmibAtdObO8F4tnhLENuQ</td>\n",
       "    </tr>\n",
       "    <tr>\n",
       "      <td id=\"T_d2aa0_row1_col0\" class=\"data row1 col0\" >The Strokes</td>\n",
       "      <td id=\"T_d2aa0_row1_col1\" class=\"data row1 col1\" >Room On Fire</td>\n",
       "      <td id=\"T_d2aa0_row1_col2\" class=\"data row1 col2\" >2003-10-28</td>\n",
       "      <td id=\"T_d2aa0_row1_col3\" class=\"data row1 col3\" >11</td>\n",
       "      <td id=\"T_d2aa0_row1_col4\" class=\"data row1 col4\" >Under Control</td>\n",
       "      <td id=\"T_d2aa0_row1_col5\" class=\"data row1 col5\" >8</td>\n",
       "      <td id=\"T_d2aa0_row1_col6\" class=\"data row1 col6\" >187306</td>\n",
       "      <td id=\"T_d2aa0_row1_col7\" class=\"data row1 col7\" >0</td>\n",
       "      <td id=\"T_d2aa0_row1_col8\" class=\"data row1 col8\" >0epOFNiUfyON9EYx7Tpr6V</td>\n",
       "      <td id=\"T_d2aa0_row1_col9\" class=\"data row1 col9\" >5OA9iN6WTzunqAdiuEpr7Q</td>\n",
       "      <td id=\"T_d2aa0_row1_col10\" class=\"data row1 col10\" >5Llxit9Fc8E5C1jT9epRTU</td>\n",
       "    </tr>\n",
       "    <tr>\n",
       "      <td id=\"T_d2aa0_row2_col0\" class=\"data row2 col0\" >The Strokes</td>\n",
       "      <td id=\"T_d2aa0_row2_col1\" class=\"data row2 col1\" >Room On Fire</td>\n",
       "      <td id=\"T_d2aa0_row2_col2\" class=\"data row2 col2\" >2003-10-28</td>\n",
       "      <td id=\"T_d2aa0_row2_col3\" class=\"data row2 col3\" >11</td>\n",
       "      <td id=\"T_d2aa0_row2_col4\" class=\"data row2 col4\" >I Can't Win</td>\n",
       "      <td id=\"T_d2aa0_row2_col5\" class=\"data row2 col5\" >11</td>\n",
       "      <td id=\"T_d2aa0_row2_col6\" class=\"data row2 col6\" >162040</td>\n",
       "      <td id=\"T_d2aa0_row2_col7\" class=\"data row2 col7\" >0</td>\n",
       "      <td id=\"T_d2aa0_row2_col8\" class=\"data row2 col8\" >0epOFNiUfyON9EYx7Tpr6V</td>\n",
       "      <td id=\"T_d2aa0_row2_col9\" class=\"data row2 col9\" >5OA9iN6WTzunqAdiuEpr7Q</td>\n",
       "      <td id=\"T_d2aa0_row2_col10\" class=\"data row2 col10\" >4rC465YB5dS1MySDtFsAE6</td>\n",
       "    </tr>\n",
       "    <tr>\n",
       "      <td id=\"T_d2aa0_row3_col0\" class=\"data row3 col0\" >The Strokes</td>\n",
       "      <td id=\"T_d2aa0_row3_col1\" class=\"data row3 col1\" >Room On Fire</td>\n",
       "      <td id=\"T_d2aa0_row3_col2\" class=\"data row3 col2\" >2003-10-28</td>\n",
       "      <td id=\"T_d2aa0_row3_col3\" class=\"data row3 col3\" >11</td>\n",
       "      <td id=\"T_d2aa0_row3_col4\" class=\"data row3 col4\" >12:51</td>\n",
       "      <td id=\"T_d2aa0_row3_col5\" class=\"data row3 col5\" >4</td>\n",
       "      <td id=\"T_d2aa0_row3_col6\" class=\"data row3 col6\" >153133</td>\n",
       "      <td id=\"T_d2aa0_row3_col7\" class=\"data row3 col7\" >0</td>\n",
       "      <td id=\"T_d2aa0_row3_col8\" class=\"data row3 col8\" >0epOFNiUfyON9EYx7Tpr6V</td>\n",
       "      <td id=\"T_d2aa0_row3_col9\" class=\"data row3 col9\" >5OA9iN6WTzunqAdiuEpr7Q</td>\n",
       "      <td id=\"T_d2aa0_row3_col10\" class=\"data row3 col10\" >0nkLI0pdyTRpq7BsTFBufZ</td>\n",
       "    </tr>\n",
       "    <tr>\n",
       "      <td id=\"T_d2aa0_row4_col0\" class=\"data row4 col0\" >The Strokes</td>\n",
       "      <td id=\"T_d2aa0_row4_col1\" class=\"data row4 col1\" >Room On Fire</td>\n",
       "      <td id=\"T_d2aa0_row4_col2\" class=\"data row4 col2\" >2003-10-28</td>\n",
       "      <td id=\"T_d2aa0_row4_col3\" class=\"data row4 col3\" >11</td>\n",
       "      <td id=\"T_d2aa0_row4_col4\" class=\"data row4 col4\" >What Ever Happened?</td>\n",
       "      <td id=\"T_d2aa0_row4_col5\" class=\"data row4 col5\" >1</td>\n",
       "      <td id=\"T_d2aa0_row4_col6\" class=\"data row4 col6\" >169506</td>\n",
       "      <td id=\"T_d2aa0_row4_col7\" class=\"data row4 col7\" >0</td>\n",
       "      <td id=\"T_d2aa0_row4_col8\" class=\"data row4 col8\" >0epOFNiUfyON9EYx7Tpr6V</td>\n",
       "      <td id=\"T_d2aa0_row4_col9\" class=\"data row4 col9\" >5OA9iN6WTzunqAdiuEpr7Q</td>\n",
       "      <td id=\"T_d2aa0_row4_col10\" class=\"data row4 col10\" >08yezFIhte4aFiDpmQmQlP</td>\n",
       "    </tr>\n",
       "  </tbody>\n",
       "</table>\n"
      ],
      "text/plain": [
       "<pandas.io.formats.style.Styler at 0x16859a6d190>"
      ]
     },
     "execution_count": 18,
     "metadata": {},
     "output_type": "execute_result"
    }
   ],
   "source": [
    "spotify_tracks.head().style.hide_index()"
   ]
  },
  {
   "cell_type": "markdown",
   "id": "c47524eb-efd4-41b5-b764-e008d96a0e48",
   "metadata": {
    "tags": []
   },
   "source": [
    "#### Artists"
   ]
  },
  {
   "cell_type": "markdown",
   "id": "3856732b-48fc-49cf-98af-6d2ac91231d0",
   "metadata": {},
   "source": [
    "Similarly, we can get the details of artists. Remember that `my_library` doesn't contain the unique id for every track's artist, but only for those I follow. It will be better to get them from the `spotify_track` dataframe, which we have just created:"
   ]
  },
  {
   "cell_type": "code",
   "execution_count": 19,
   "id": "1c410798-3053-48e2-a29d-f6d0b8a845eb",
   "metadata": {},
   "outputs": [],
   "source": [
    "# Get unique artist ids\n",
    "artists_ids  = spotify_tracks.artist_id.dropna().unique()\n",
    "\n",
    "# Split into chunks of size 50 (max) beacuse of the API limitation\n",
    "chunks = [artists_ids[x : x + 50] for x in range(0, len(artists_ids), 50)]\n",
    "\n",
    "# Prepare empty list for the filtered dictionary\n",
    "d_filtered = []\n",
    "\n",
    "# Collect data\n",
    "for i in range(len(chunks)):\n",
    "    \n",
    "    chunks[i] = \"%2C\".join(chunks[i]) # Concat ids in each chunk and sepearate by comma ('%2C') to fit url query\n",
    "    \n",
    "    response = requests.get(BASE_URL + 'artists?ids=' + chunks[i], \n",
    "                            headers=headers,\n",
    "                            params={'limit': 50})\n",
    "    d = response.json()\n",
    "    \n",
    "    # Filter list of dictionaries out of irrelevant information\n",
    "    for artist in d['artists']:\n",
    "        d_artist = {'artist_id' :artist['id'],\n",
    "                    'artist'    :artist['name'],\n",
    "                    'followers' :artist['followers']['total'],\n",
    "                    'artist_popularity':artist['popularity'],\n",
    "                    'genres'    :artist['genres']}\n",
    "        d_filtered.append(d_artist)\n",
    "    \n",
    "spotify_artists = pd.DataFrame(d_filtered)"
   ]
  },
  {
   "cell_type": "markdown",
   "id": "62425f3b-6a07-4a6c-8150-b1b93ba3ded9",
   "metadata": {},
   "source": [
    "A glance at the new dataset:"
   ]
  },
  {
   "cell_type": "code",
   "execution_count": 20,
   "id": "cfc50432-4860-40a0-9b18-1ead7d6bb3e0",
   "metadata": {},
   "outputs": [
    {
     "data": {
      "text/html": [
       "<style type=\"text/css\">\n",
       "</style>\n",
       "<table id=\"T_6b80f_\">\n",
       "  <thead>\n",
       "    <tr>\n",
       "      <th class=\"col_heading level0 col0\" >artist_id</th>\n",
       "      <th class=\"col_heading level0 col1\" >artist</th>\n",
       "      <th class=\"col_heading level0 col2\" >followers</th>\n",
       "      <th class=\"col_heading level0 col3\" >artist_popularity</th>\n",
       "      <th class=\"col_heading level0 col4\" >genres</th>\n",
       "    </tr>\n",
       "  </thead>\n",
       "  <tbody>\n",
       "    <tr>\n",
       "      <td id=\"T_6b80f_row0_col0\" class=\"data row0 col0\" >0epOFNiUfyON9EYx7Tpr6V</td>\n",
       "      <td id=\"T_6b80f_row0_col1\" class=\"data row0 col1\" >The Strokes</td>\n",
       "      <td id=\"T_6b80f_row0_col2\" class=\"data row0 col2\" >4042874</td>\n",
       "      <td id=\"T_6b80f_row0_col3\" class=\"data row0 col3\" >78</td>\n",
       "      <td id=\"T_6b80f_row0_col4\" class=\"data row0 col4\" >['alternative rock', 'garage rock', 'modern rock', 'permanent wave', 'rock']</td>\n",
       "    </tr>\n",
       "    <tr>\n",
       "      <td id=\"T_6b80f_row1_col0\" class=\"data row1 col0\" >7mnBLXK823vNxN3UWB7Gfz</td>\n",
       "      <td id=\"T_6b80f_row1_col1\" class=\"data row1 col1\" >The Black Keys</td>\n",
       "      <td id=\"T_6b80f_row1_col2\" class=\"data row1 col2\" >3578388</td>\n",
       "      <td id=\"T_6b80f_row1_col3\" class=\"data row1 col3\" >73</td>\n",
       "      <td id=\"T_6b80f_row1_col4\" class=\"data row1 col4\" >['alternative rock', 'blues rock', 'garage rock', 'modern blues rock', 'modern rock', 'punk blues', 'rock', 'roots rock']</td>\n",
       "    </tr>\n",
       "    <tr>\n",
       "      <td id=\"T_6b80f_row2_col0\" class=\"data row2 col0\" >2uH0RyPcX7fnCcT90HFDQX</td>\n",
       "      <td id=\"T_6b80f_row2_col1\" class=\"data row2 col1\" >Manic Street Preachers</td>\n",
       "      <td id=\"T_6b80f_row2_col2\" class=\"data row2 col2\" >543972</td>\n",
       "      <td id=\"T_6b80f_row2_col3\" class=\"data row2 col3\" >59</td>\n",
       "      <td id=\"T_6b80f_row2_col4\" class=\"data row2 col4\" >['alternative rock', 'britpop', 'modern rock', 'permanent wave', 'pop rock', 'rock', 'welsh rock']</td>\n",
       "    </tr>\n",
       "    <tr>\n",
       "      <td id=\"T_6b80f_row3_col0\" class=\"data row3 col0\" >3yY2gUcIsjMr8hjo51PoJ8</td>\n",
       "      <td id=\"T_6b80f_row3_col1\" class=\"data row3 col1\" >The Smiths</td>\n",
       "      <td id=\"T_6b80f_row3_col2\" class=\"data row3 col2\" >2849835</td>\n",
       "      <td id=\"T_6b80f_row3_col3\" class=\"data row3 col3\" >74</td>\n",
       "      <td id=\"T_6b80f_row3_col4\" class=\"data row3 col4\" >['madchester', 'new wave', 'permanent wave', 'rock', 'uk post-punk']</td>\n",
       "    </tr>\n",
       "    <tr>\n",
       "      <td id=\"T_6b80f_row4_col0\" class=\"data row4 col0\" >6e9wIFWhBPHLE9bXK8gtBI</td>\n",
       "      <td id=\"T_6b80f_row4_col1\" class=\"data row4 col1\" >Editors</td>\n",
       "      <td id=\"T_6b80f_row4_col2\" class=\"data row4 col2\" >637069</td>\n",
       "      <td id=\"T_6b80f_row4_col3\" class=\"data row4 col3\" >59</td>\n",
       "      <td id=\"T_6b80f_row4_col4\" class=\"data row4 col4\" >['alternative dance', 'alternative rock', 'britpop', 'indie rock', 'modern rock', 'new rave', 'rock']</td>\n",
       "    </tr>\n",
       "  </tbody>\n",
       "</table>\n"
      ],
      "text/plain": [
       "<pandas.io.formats.style.Styler at 0x16859a6da30>"
      ]
     },
     "execution_count": 20,
     "metadata": {},
     "output_type": "execute_result"
    }
   ],
   "source": [
    "spotify_artists.head().style.hide_index()"
   ]
  },
  {
   "cell_type": "markdown",
   "id": "9b7293bc-507f-4ebd-8448-3fea64b2a7a8",
   "metadata": {},
   "source": [
    "The `genres` column is actually composed of lists, which need to get separated in some way. I'll create a dummy for each genre, and keep only the main ones."
   ]
  },
  {
   "cell_type": "code",
   "execution_count": 21,
   "id": "5534c8d2-8d9f-458f-851b-f71d71ada9d5",
   "metadata": {},
   "outputs": [],
   "source": [
    "# # Extract genres column as list of lists\n",
    "# genres_raw = list(spotify_artists['genres'])\n",
    "\n",
    "# # Unnest list, and remove duplicate genres\n",
    "# genres = list(chain.from_iterable(genres_raw))\n",
    "\n",
    "# counted = Counter(genres)\n",
    "# print(counted)\n",
    "# genres_filtered = [genre for genre in genres if counted[genre] > 1 or \"israel\" in genre]\n"
   ]
  },
  {
   "cell_type": "markdown",
   "id": "a6e7fd4c-9b5b-4d28-9a34-8ac5731e941b",
   "metadata": {},
   "source": [
    "Finally, we'll merge the artist information into the tracks dataset:"
   ]
  },
  {
   "cell_type": "code",
   "execution_count": 22,
   "id": "866bc137-62e2-4e9f-be67-83dea291db10",
   "metadata": {},
   "outputs": [],
   "source": [
    "spotify_data = spotify_tracks.merge(spotify_artists.drop(columns='artist'), how = 'left', on = 'artist_id')"
   ]
  },
  {
   "cell_type": "markdown",
   "id": "c8208adb-4d28-4866-b7a1-41dadc0e17db",
   "metadata": {
    "tags": []
   },
   "source": [
    "## Data Analysis"
   ]
  },
  {
   "cell_type": "markdown",
   "id": "f719223a-fa22-4d77-a5ac-fa0911291b97",
   "metadata": {},
   "source": [
    "Up to this point that we prepared several datasets:\n",
    "\n",
    "* Personal data:\n",
    "    * `my_stream`: with all the tracks I played in the past year (Sep 20'&ndash;Sep 21').\n",
    "    * `my_library`: with all the items that are in my spotify library.\n",
    "* Public data:\n",
    "    * `spotify_tracks`: with public information regarding the tracks in `my_library`.\n",
    "    * `spotify_artists`: same, but for aritsts.\n",
    " \n",
    "Let's see what we can derive from them!"
   ]
  },
  {
   "cell_type": "markdown",
   "id": "bdc326f6-5acc-4fb0-bf98-9611099c1547",
   "metadata": {},
   "source": [
    "### Streaming Time"
   ]
  },
  {
   "cell_type": "markdown",
   "id": "75617ade-aeda-44c7-beee-e98deb66f525",
   "metadata": {},
   "source": [
    "In start by exploring my most played tracks, albums and artists by the total duration played."
   ]
  },
  {
   "cell_type": "code",
   "execution_count": 23,
   "id": "5c8657a5-1a4c-448c-868a-a70843f4b371",
   "metadata": {
    "tags": []
   },
   "outputs": [],
   "source": [
    "# By artist\n",
    "stream_by_artist = my_stream\\\n",
    "                   .groupby('artist', as_index=False)\\\n",
    "                   .hours_played.sum()\n",
    "\n",
    "top10_artists = stream_by_artist.nlargest(10, 'hours_played')\n",
    "\n",
    "plt.figure(figsize=(4, 6))\n",
    "my_hbarplot(y = 'artist', x= 'hours_played', data = top10_artists,\n",
    "            xlabel = 'Hours Played', title = 'Most Played Artists in 2021')\n",
    "savefig('plots/top_played_artists.png')\n",
    "plt.close()"
   ]
  },
  {
   "cell_type": "code",
   "execution_count": 24,
   "id": "fb0c5b47-e580-4682-9148-122cf25df54e",
   "metadata": {
    "tags": []
   },
   "outputs": [],
   "source": [
    "stream_by_album = my_stream\\\n",
    "                  .groupby('album', as_index=False)\\\n",
    "                  .agg({'artist':'first','hours_played':'sum'})\n",
    "stream_by_album['album'] = stream_by_album['album'].str.replace('השחור החדש', 'HaSachor HaHadash')\n",
    "stream_by_album['album'] = (stream_by_album['album'] + ' \\n (' + stream_by_album['artist'] + ')').str.replace(' - Remastered', '')\n",
    "top10_albums = stream_by_album.nlargest(10, 'hours_played')\n",
    "\n",
    "plt.figure(figsize=(4, 6))\n",
    "my_hbarplot(y = 'album', x= 'hours_played', data = top10_albums,\n",
    "           xlabel = 'Hours Played', title = 'Most Played Albums in 2021')\n",
    "savefig('plots/top_played_albums.png')\n",
    "plt.close()"
   ]
  },
  {
   "cell_type": "code",
   "execution_count": 25,
   "id": "354b98cb-55b5-4a99-a42e-f919a61f8703",
   "metadata": {
    "tags": []
   },
   "outputs": [],
   "source": [
    "stream_by_track = my_stream\\\n",
    "                  .groupby('track', as_index=False)\\\n",
    "                  .agg({'artist':'first','hours_played':'sum'})\n",
    "stream_by_track['track'] = (stream_by_track['track'] + ' \\n (' + stream_by_track['artist'] + ')').str.replace(' - Remastered', '')\n",
    "top10_tracks = stream_by_track.nlargest(10, 'hours_played')\n",
    "\n",
    "plt.figure(figsize=(4, 6))\n",
    "my_hbarplot(y = 'track', x= 'hours_played', data = top10_tracks,\n",
    "           xlabel = 'Hours Played', title = 'Most Played Tracks in 2021')\n",
    "savefig('plots/top_played_tracks.png')\n",
    "plt.close()"
   ]
  },
  {
   "cell_type": "markdown",
   "id": "421e7376-1954-410c-96d1-afeeec4f4fdb",
   "metadata": {},
   "source": [
    "![](plots/top_played_artists.png)\n",
    "\n",
    "![](plots/top_played_albums.png)\n",
    "\n",
    "![](plots/top_played_tracks.png)"
   ]
  },
  {
   "cell_type": "markdown",
   "id": "5052ed09-5df8-41e4-a806-6c9b26caa2d5",
   "metadata": {},
   "source": [
    "The next step will be to explore the streaming pattern of the top 10 artists across time, to see if there was a change in listening preferences."
   ]
  },
  {
   "cell_type": "code",
   "execution_count": 26,
   "id": "84214f55-52ad-4a8c-be98-ef921810f75c",
   "metadata": {
    "tags": []
   },
   "outputs": [],
   "source": [
    "top10_artists_list = list(top10_artists['artist'])\n",
    "\n",
    "monthly_stream = my_stream.groupby(['artist', pd.Grouper(key = 'date_played', freq = 'M')]).agg({'hours_played':'sum'}).reset_index()\n",
    "\n",
    "top10_monthly = monthly_stream[monthly_stream.artist.isin(top10_artists_list)].reset_index(drop=True).sort_values('date_played')\n",
    "top10_monthly['pct'] = top10_monthly.groupby(['date_played'])['hours_played'].apply(lambda x: round(100 * x / float(x.sum()), 1))\n",
    "top10_monthly = top10_monthly.pivot(index='date_played',columns='artist')['pct']\n",
    "\n",
    "x_ticks = list(top10_monthly.index.strftime('%b %y').unique())\n",
    "\n",
    "sns.set_palette('deep')\n",
    "plot=top10_monthly.plot.bar(stacked=True, figsize = (8,5),\n",
    "              xlabel = 'Month', ylabel = 'Time Played, %', rot = 45)\n",
    "plt.title('Most Played Artists Across Time',fontsize=16)\n",
    "plt.legend(bbox_to_anchor=(1.0, 1.0))\n",
    "plt.annotate('* Among the 10 most played artists throughout the whole year.', (0,-0.07), (0, -50), xycoords='axes fraction', textcoords='offset points', size = 11)\n",
    "plot.set_xticklabels(labels=x_ticks, rotation=45, ha='right')\n",
    "savefig('plots/artists_by_month.png')\n",
    "\n",
    "plt.close()"
   ]
  },
  {
   "cell_type": "markdown",
   "id": "be48a0d7-36d6-44e3-8fda-a9ace329ed38",
   "metadata": {},
   "source": [
    "![](plots/artists_by_month.png)"
   ]
  },
  {
   "cell_type": "markdown",
   "id": "bb0a77ad-a096-4cd4-88d1-df426466a83d",
   "metadata": {},
   "source": [
    "It seems like Editors started to dominate in February 21', continuing up until September, when Manic Street Preaches suddenly took the throne."
   ]
  },
  {
   "cell_type": "markdown",
   "id": "58684d87-6f3c-4d25-8525-6bf31cf6f6bf",
   "metadata": {},
   "source": [
    "Most of the time I stream the playlist \"Liked Songs\", which contains the items in my library. Although I actively marked them as such, I don't want to listen to them __every__ time they come up. To explore that phenomenon, I use the `skipped` variable I created eralier. Let's start looking at the artists level:"
   ]
  },
  {
   "cell_type": "code",
   "execution_count": 27,
   "id": "4a326360-2dd9-4b09-854c-966710b75e4c",
   "metadata": {
    "tags": []
   },
   "outputs": [],
   "source": [
    "skipped_artists = my_stream.groupby(['artist'], as_index=False)[['skipped']].sum().nlargest(10, 'skipped')\n",
    "plt.figure(figsize=(4, 6))\n",
    "my_hbarplot(x = 'skipped', y = 'artist', data = skipped_artists, \n",
    "            title = 'Most Skipped Artists', xlabel = 'Times Skipped')\n",
    "savefig('plots/most_skipped_artists_false.png')\n",
    "plt.close()"
   ]
  },
  {
   "cell_type": "markdown",
   "id": "14edd778-646b-4714-bdf6-abcde6ef4f33",
   "metadata": {},
   "source": [
    "![](plots/most_skipped_artists_false.png)"
   ]
  },
  {
   "cell_type": "markdown",
   "id": "317943b8-6ee6-4e54-8707-a4d9f76efe25",
   "metadata": {},
   "source": [
    "It appears that most of these artists intersects with my most played artists, which is a bit strange. It happens because each of them has a different probability to come up when shuffling through my library. Let's adjust these values to consider this issue:"
   ]
  },
  {
   "cell_type": "code",
   "execution_count": 28,
   "id": "a4ab8b86-297e-4b85-9484-f24435283697",
   "metadata": {
    "tags": []
   },
   "outputs": [],
   "source": [
    "# Count times skipped and total appearances. Filter for appearances > 10\n",
    "skipped_artists_adj = my_stream.groupby(['artist']).agg({'skipped':'sum', 'artist':'count'}).rename(columns={'artist':'times_played'}).query('times_played > 10').reset_index()\n",
    "\n",
    "# Calculate percentage skipped and display\n",
    "skipped_artists_adj['skipped_pct'] = round(skipped_artists_adj.skipped / skipped_artists_adj.times_played * 100, 1)\n",
    "skipped_artists_adj = skipped_artists_adj.drop(columns='skipped').query('skipped_pct > 60').sort_values('skipped_pct', ascending=False)\n",
    "\n",
    "# Plot\n",
    "plt.figure(figsize=(4, 8))\n",
    "my_hbarplot(x = 'skipped_pct', y = 'artist', data = skipped_artists_adj, \n",
    "            title = 'Most Skipped Artists, % of Total Streams', xlabel = 'Percentage Skipped')\n",
    "plt.annotate('* Artists who were streamed at least 10 times.', (-0.5,0), (0, -50), xycoords='axes fraction', textcoords='offset points', size = 10)\n",
    "savefig('plots/most_skipped_artists.png')\n",
    "plt.close()"
   ]
  },
  {
   "cell_type": "markdown",
   "id": "c5768ea5-2e11-4aa1-bb98-baaf172bb9a3",
   "metadata": {},
   "source": [
    "![](plots/most_skipped_artists.png)"
   ]
  },
  {
   "cell_type": "markdown",
   "id": "1bb14836-e7b0-4d80-9409-5054946b41f7",
   "metadata": {},
   "source": [
    "This is a completely different picture, but note that Franz Ferdinand (also FFS) appears in both figures. That means that while I have many of their songs marked as \"liked\", I tend to skip them too often. Maybe I should reconsider my affection to them...\n",
    "\n",
    "The next thing to consider is openness to new music. This can be found by comparing streaming time of songs in my library to those that aren't there. Two major caveats arise:\n",
    "    \n",
    "  1. I can't distinguish songs that got into the library in the middle of the year.\n",
    "  2. I occasionally listen to reading soundtracks for focusing. I might be able to distinguish them by getting the playlists, but currently I skip that.\n",
    "\n",
    "Nevertheless, let's see what we have:"
   ]
  },
  {
   "cell_type": "code",
   "execution_count": 29,
   "id": "51289fd8-aead-4144-8f90-1f0eab15951d",
   "metadata": {},
   "outputs": [],
   "source": [
    "in_library = my_stream.groupby('in_library', as_index=False).hours_played.sum()\n",
    "in_library['in_library'] = np.where(in_library['in_library']==True, 'In Library', 'Not In Library')\n",
    "fig = plt.figure(facecolor=\"w\")\n",
    "plt.pie(in_library['hours_played'], labels = in_library['in_library'], autopct='%1.0f%%')\n",
    "plt.title('Openness To New Music', size = 16)\n",
    "savefig('plots/library_streaming.png')\n",
    "plt.close()"
   ]
  },
  {
   "cell_type": "markdown",
   "id": "c96388df-d77d-44b0-a007-5c81f8613915",
   "metadata": {},
   "source": [
    "![](plots/library_streaming.png)"
   ]
  },
  {
   "cell_type": "markdown",
   "id": "72d34088-9ef0-4aa6-8f66-1a5eebf73533",
   "metadata": {
    "tags": []
   },
   "source": [
    "### Popularity/Followers"
   ]
  },
  {
   "cell_type": "markdown",
   "id": "d0e2bee3-dcc6-4931-9ae9-4c517d10ee10",
   "metadata": {},
   "source": [
    "**Artist Popularity**\n",
    "\n",
    "> The popularity of the artist. The value will be between 0 and 100, with 100 being the most popular. The artist’s popularity is calculated from the popularity of all the artist’s tracks.\t\n",
    "\n",
    "**Track Popularity**\n",
    "\n",
    "> The popularity of the track. \n",
    ">\n",
    "> The popularity of a track is a value between 0 and 100, with 100 being the most popular. The popularity is calculated by algorithm and is based, in the most part, on the total number of plays the track has had and how recent those plays are.\n",
    ">\n",
    ">Generally speaking, songs that are being played a lot now will have a higher popularity than songs that were played a lot in the past. Duplicate tracks (e.g. the same track from a single and an album) are rated independently. Artist and album popularity is derived mathematically from track popularity. Note that the popularity value may lag actual popularity by a few days: the value is not updated in real time."
   ]
  },
  {
   "cell_type": "code",
   "execution_count": 30,
   "id": "59e560cb-88d8-48b8-8e9b-3310bbb336b8",
   "metadata": {},
   "outputs": [],
   "source": [
    "# spotify_artists['test'] = np.log(spotify_artists.followers)\n",
    "\n",
    "# sns.regplot(x = 'artist_popularity',\n",
    "#             y = 'test',\n",
    "#            data = spotify_artists,\n",
    "#            ci = None           )\n",
    "# plt.show()"
   ]
  },
  {
   "cell_type": "code",
   "execution_count": 31,
   "id": "2cc0b200-bed6-44fd-9c0f-661129c940c7",
   "metadata": {},
   "outputs": [],
   "source": [
    "# followers_duration = stream_by_artist\\\n",
    "#                      .merge(spotify_artists, how='inner', on='artist')\\\n",
    "#                      .query('hours_played > 10 | followers > 7000000').reset_index()\n",
    "\n",
    "# followers_duration['followers_m'] = followers_duration['followers'] / 1000000\n",
    "\n",
    "# sns.lmplot(x = 'hours_played',\n",
    "#             y = 'followers_m',\n",
    "#            data = followers_duration,\n",
    "#            ci = None,\n",
    "#            height=5, aspect=3/2)  \n",
    "\n",
    "# plt.xlabel('Hours Played', fontsize=12)\n",
    "# plt.ylabel('Followers (millions)', fontsize=12)\n",
    "# plt.title('Worldwide Followers vs. My Playing Time in 2021', fontsize=16)\n",
    "# footnote = 'Note: The artist presented had at least 7M followers or were played for at least 10 hours.'\n",
    "# plt.annotate(footnote, (0,0), (0, -50), xycoords='axes fraction', textcoords='offset points', size = 11)\n",
    "\n",
    "\n",
    "# for i in range(followers_duration.shape[0]):\n",
    "#     if any(sub in followers_duration.artist[i] for sub in ['Arcade']):\n",
    "#         plt.text(x=followers_duration.hours_played[i]+0.4,y=followers_duration.followers_m[i]-1.2,s=followers_duration.artist[i])\n",
    "#     elif any(sub in followers_duration.artist[i] for sub in ['Puppets']):\n",
    "#         plt.text(x=followers_duration.hours_played[i]-0.1,y=followers_duration.followers_m[i]-2,s=followers_duration.artist[i])\n",
    "#     elif any(sub in followers_duration.artist[i] for sub in ['Manic']):\n",
    "#         plt.text(x=followers_duration.hours_played[i]-10,y=followers_duration.followers_m[i]+0.9,s=followers_duration.artist[i])\n",
    "#     else:\n",
    "#         plt.text(x=followers_duration.hours_played[i]+0.3,y=followers_duration.followers_m[i]+0.9,s=followers_duration.artist[i])"
   ]
  }
 ],
 "metadata": {
  "kernelspec": {
   "display_name": "Python 3 (ipykernel)",
   "language": "python",
   "name": "python3"
  },
  "language_info": {
   "codemirror_mode": {
    "name": "ipython",
    "version": 3
   },
   "file_extension": ".py",
   "mimetype": "text/x-python",
   "name": "python",
   "nbconvert_exporter": "python",
   "pygments_lexer": "ipython3",
   "version": "3.8.12"
  },
  "toc-showtags": false
 },
 "nbformat": 4,
 "nbformat_minor": 5
}
